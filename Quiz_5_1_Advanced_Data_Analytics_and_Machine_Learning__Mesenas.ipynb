{
  "nbformat": 4,
  "nbformat_minor": 0,
  "metadata": {
    "colab": {
      "provenance": [],
      "authorship_tag": "ABX9TyPDg7zuJJ6MC1H/WK8c4FSI",
      "include_colab_link": true
    },
    "kernelspec": {
      "name": "python3",
      "display_name": "Python 3"
    },
    "language_info": {
      "name": "python"
    }
  },
  "cells": [
    {
      "cell_type": "markdown",
      "metadata": {
        "id": "view-in-github",
        "colab_type": "text"
      },
      "source": [
        "<a href=\"https://colab.research.google.com/github/qmelmesenas/CPE019/blob/main/Quiz_5_1_Advanced_Data_Analytics_and_Machine_Learning__Mesenas.ipynb\" target=\"_parent\"><img src=\"https://colab.research.google.com/assets/colab-badge.svg\" alt=\"Open In Colab\"/></a>"
      ]
    },
    {
      "cell_type": "markdown",
      "source": [
        "Name: Mary Elizabeth Mesenas <br>\n",
        "Course & Section: CPE019 - CPE324 <br>\n",
        "Instructor: Dr. Richard Monreal\n"
      ],
      "metadata": {
        "id": "UT5r3zvGYKpb"
      }
    },
    {
      "cell_type": "markdown",
      "source": [
        "**SET B**\n",
        "\n",
        "Write a program to select the 'attempts' and 'qualify' columns from the following DataFrame."
      ],
      "metadata": {
        "id": "2Iyb1bg2aT1d"
      }
    },
    {
      "cell_type": "code",
      "source": [
        "import pandas as pd\n",
        "import numpy as np"
      ],
      "metadata": {
        "id": "E9LIPg6NYpaL"
      },
      "execution_count": 2,
      "outputs": []
    },
    {
      "cell_type": "code",
      "source": [
        "exam_data = {'name': ['Anastasia', 'Dima', 'Katherine', 'James', 'Emily', 'Michael', 'Matthew', 'Laura', 'Kevin', 'Jonas'],\n",
        "'score': [12.5, 9, 16.5, np.nan, 9, 20, 14.5, np.nan, 8, 19],\n",
        "'attempts': [1, 3, 2, 3, 2, 3, 1, 1, 2, 1],\n",
        "'qualify': ['yes', 'no', 'yes', 'no', 'no', 'yes', 'yes', 'no', 'no', 'yes']}\n",
        "labels = ['a', 'b', 'c', 'd', 'e', 'f', 'g', 'h', 'i', 'j']"
      ],
      "metadata": {
        "id": "lW7rwVV0Y0vD"
      },
      "execution_count": 3,
      "outputs": []
    },
    {
      "cell_type": "code",
      "execution_count": 5,
      "metadata": {
        "id": "34793Jm0YJ5W",
        "colab": {
          "base_uri": "https://localhost:8080/"
        },
        "outputId": "cec42f1e-6973-41aa-ac62-dc2ea4e277ab"
      },
      "outputs": [
        {
          "output_type": "stream",
          "name": "stdout",
          "text": [
            "   attempts qualify\n",
            "a         1     yes\n",
            "b         3      no\n",
            "c         2     yes\n",
            "d         3      no\n",
            "e         2      no\n",
            "f         3     yes\n",
            "g         1     yes\n",
            "h         1      no\n",
            "i         2      no\n",
            "j         1     yes\n"
          ]
        }
      ],
      "source": [
        "df = pd.DataFrame(exam_data, index=labels)\n",
        "sel_columns = df[['attempts', 'qualify']]\n",
        "print(sel_columns)"
      ]
    }
  ]
}